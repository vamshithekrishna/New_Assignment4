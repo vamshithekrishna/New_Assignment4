{
 "cells": [
  {
   "cell_type": "code",
   "execution_count": 1,
   "metadata": {},
   "outputs": [
    {
     "name": "stdout",
     "output_type": "stream",
     "text": [
      "He score well then the avg in percentage  0.5333333333333333\n",
      "Has effect\n"
     ]
    }
   ],
   "source": [
    "Avg=100\n",
    "score=108\n",
    "Sd=15\n",
    "Z_Score = (108-100)/15\n",
    "print(\"He score well then the avg in percentage \" ,Z_Score)\n",
    "if(Z_Score>=0.5):\n",
    "    print(\"Has effect\")\n",
    "else:\n",
    "    print(\"Has No effect\")\n",
    "    "
   ]
  },
  {
   "cell_type": "code",
   "execution_count": null,
   "metadata": {
    "collapsed": true
   },
   "outputs": [],
   "source": []
  }
 ],
 "metadata": {
  "kernelspec": {
   "display_name": "Python 3",
   "language": "python",
   "name": "python3"
  },
  "language_info": {
   "codemirror_mode": {
    "name": "ipython",
    "version": 3
   },
   "file_extension": ".py",
   "mimetype": "text/x-python",
   "name": "python",
   "nbconvert_exporter": "python",
   "pygments_lexer": "ipython3",
   "version": "3.6.3"
  }
 },
 "nbformat": 4,
 "nbformat_minor": 2
}
